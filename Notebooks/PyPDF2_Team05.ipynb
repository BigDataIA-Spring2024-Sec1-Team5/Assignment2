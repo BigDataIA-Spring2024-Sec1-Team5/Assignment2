{
 "cells": [
  {
   "cell_type": "code",
   "execution_count": 17,
   "id": "f4280574",
   "metadata": {},
   "outputs": [
    {
     "name": "stdout",
     "output_type": "stream",
     "text": [
      "Requirement already satisfied: pypdf2 in /Users/shubh/anaconda3/lib/python3.10/site-packages (3.0.1)\n",
      "Note: you may need to restart the kernel to use updated packages.\n"
     ]
    }
   ],
   "source": [
    "pip install pypdf2"
   ]
  },
  {
   "cell_type": "code",
   "execution_count": 18,
   "id": "87571720",
   "metadata": {},
   "outputs": [
    {
     "name": "stdout",
     "output_type": "stream",
     "text": [
      "Extracted and saved: extracted_texts/Structured_2024_l1topics_combined.txt\n",
      "Extracted and saved: extracted_texts/Structured_2024_l2topics_combined.txt\n",
      "Extracted and saved: extracted_texts/Structured_2024_l3topics_combined.txt\n"
     ]
    }
   ],
   "source": [
    "\n",
    "import PyPDF2\n",
    "import os\n",
    "import re\n",
    "\n",
    "def clean_text(text):\n",
    "    # Remove any undesired characters or patterns here, e.g., multiple newlines\n",
    "    return re.sub(r'\\n\\s*\\n', '\\n\\n', text).strip()\n",
    "\n",
    "def extract_text_pypdf(filename):\n",
    "    text = \"\"\n",
    "    with open(filename, 'rb') as f:\n",
    "        reader = PyPDF2.PdfReader(f)\n",
    "        for page_num in range(len(reader.pages)):\n",
    "            page_text = reader.pages[page_num].extract_text() + \"\\n\"  # Ensure there is a break between pages\n",
    "            # Insert additional processing here if needed\n",
    "            text += page_text\n",
    "    return clean_text(text)\n",
    "\n",
    "def save_text_to_file(text, filename):\n",
    "    with open(filename, 'w', encoding='utf-8') as f:\n",
    "        f.write(text)\n",
    "\n",
    "def structure_output(pdf_filename, year, level, reading, topic_name):\n",
    "    # Ensure output directory exists\n",
    "    output_folder = \"extracted_texts\"  # Example of a dedicated output directory\n",
    "    if not os.path.exists(output_folder):\n",
    "        os.makedirs(output_folder)\n",
    "    output_filename = os.path.join(output_folder, f\"Structured_{year}_{level}{reading}_{topic_name}.txt\")\n",
    "    return output_filename\n",
    "\n",
    "pdf_filenames = [\n",
    "    '/Users/shubh/Downloads/Archive 2 (1)/2024-l1-topics-combined-2.pdf',\n",
    "    '/Users/shubh/Downloads/Archive 2 (1)/2024-l2-topics-combined-2.pdf',\n",
    "    '/Users/shubh/Downloads/Archive 2 (1)/2024-l3-topics-combined-2.pdf'\n",
    "]\n",
    "\n",
    "for pdf_filename in pdf_filenames:\n",
    "    text = extract_text_pypdf(pdf_filename)\n",
    "    \n",
    "    # Extract metadata for file naming\n",
    "    parts = pdf_filename.split('/')[-1].split('-')\n",
    "    year, level, reading = parts[0], parts[1], parts[2]\n",
    "    topic_name = parts[3].split('.')[0]\n",
    "    \n",
    "    output_filename = structure_output(pdf_filename, year, level, reading, topic_name)\n",
    "    save_text_to_file(text, output_filename)\n",
    "    print(f\"Extracted and saved: {output_filename}\")\n",
    "\n"
   ]
  },
  {
   "cell_type": "code",
   "execution_count": null,
   "id": "3bed08fb",
   "metadata": {},
   "outputs": [],
   "source": []
  }
 ],
 "metadata": {
  "kernelspec": {
   "display_name": "Python 3 (ipykernel)",
   "language": "python",
   "name": "python3"
  },
  "language_info": {
   "codemirror_mode": {
    "name": "ipython",
    "version": 3
   },
   "file_extension": ".py",
   "mimetype": "text/x-python",
   "name": "python",
   "nbconvert_exporter": "python",
   "pygments_lexer": "ipython3",
   "version": "3.10.9"
  }
 },
 "nbformat": 4,
 "nbformat_minor": 5
}
