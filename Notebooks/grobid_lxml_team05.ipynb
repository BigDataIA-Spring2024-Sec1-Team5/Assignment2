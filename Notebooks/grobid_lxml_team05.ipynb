{
 "cells": [
  {
   "cell_type": "code",
   "execution_count": 6,
   "metadata": {},
   "outputs": [
    {
     "name": "stdout",
     "output_type": "stream",
     "text": [
      "Structured text extraction completed. The text has been saved to: /Users/shubh/Desktop/untitled folder/GROBID/Grobid_RR_2024_LevelIII_combined.txt\n"
     ]
    }
   ],
   "source": [
    "from lxml import etree\n",
    "\n",
    "def extract_text_with_structure(tei_file):\n",
    "    # Load and parse the TEI XML file\n",
    "    tree = etree.parse(tei_file)\n",
    "    ns = {'tei': 'http://www.tei-c.org/ns/1.0'}  # Define the TEI namespace\n",
    "\n",
    "    structured_text = []\n",
    "\n",
    "    # Extracting document title\n",
    "    doc_title = tree.xpath('//tei:titleStmt/tei:title/text()', namespaces=ns)\n",
    "    if doc_title:\n",
    "        structured_text.append(\"Document Title: \" + doc_title[0] + \"\\n\")\n",
    "\n",
    "    # Extracting abstract\n",
    "    abstracts = tree.xpath('//tei:abstract//text()', namespaces=ns)\n",
    "    if abstracts:\n",
    "        structured_text.append(\"Abstract:\\n\" + \"\".join(abstracts).strip() + \"\\n\")\n",
    "\n",
    "    # Extracting sections with headers and paragraphs\n",
    "    # Assuming sections are under <body> tag\n",
    "    sections = tree.xpath('//tei:text//tei:body//tei:div', namespaces=ns)\n",
    "    for section in sections:\n",
    "        # Section title\n",
    "        header = section.xpath('.//tei:head/text()', namespaces=ns)\n",
    "        if header:\n",
    "            structured_text.append(\"\\n\" + header[0] + \"\\n\")\n",
    "\n",
    "        # Section paragraphs\n",
    "        paragraphs = section.xpath('.//tei:p//text()', namespaces=ns)\n",
    "        for paragraph in paragraphs:\n",
    "            structured_text.append(paragraph.strip() + \"\\n\")\n",
    "\n",
    "    # Convert the list of strings into a single string\n",
    "    return \"\\n\".join(structured_text)\n",
    "\n",
    "# The path to your TEI XML file from Grobid\n",
    "tei_file = '/Users/shubh/Desktop/untitled folder/GROBID/Grobid_RR_2024_LevelIII_combined.xml'\n",
    "\n",
    "# Extract the text while preserving structure\n",
    "structured_text = extract_text_with_structure(tei_file)\n",
    "\n",
    "# Output the structured text to a new file\n",
    "output_file_path = '/Users/shubh/Desktop/untitled folder/GROBID/Grobid_RR_2024_LevelIII_combined.txt'\n",
    "with open(output_file_path, 'w', encoding='utf-8') as output_file:\n",
    "    output_file.write(structured_text)\n",
    "\n",
    "print(f\"Structured text extraction completed. The text has been saved to: {output_file_path}\")\n"
   ]
  }
 ],
 "metadata": {
  "kernelspec": {
   "display_name": "base",
   "language": "python",
   "name": "python3"
  },
  "language_info": {
   "codemirror_mode": {
    "name": "ipython",
    "version": 3
   },
   "file_extension": ".py",
   "mimetype": "text/x-python",
   "name": "python",
   "nbconvert_exporter": "python",
   "pygments_lexer": "ipython3",
   "version": "3.10.9"
  },
  "orig_nbformat": 4
 },
 "nbformat": 4,
 "nbformat_minor": 2
}
